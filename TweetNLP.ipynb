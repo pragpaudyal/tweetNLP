{
  "cells": [
    {
      "cell_type": "code",
      "source": [
        "#install twint, nest_asyncio\n",
        "! pip install -qq twint\n",
        "! pip install -qq nest_asyncio\n"
      ],
      "outputs": [
        {
          "output_type": "stream",
          "name": "stdout",
          "text": [
            "\u001b[K     |████████████████████████████████| 1.2MB 5.7MB/s \n",
            "\u001b[K     |████████████████████████████████| 245kB 13.8MB/s \n",
            "\u001b[K     |████████████████████████████████| 225kB 13.7MB/s \n",
            "\u001b[K     |████████████████████████████████| 153kB 17.0MB/s \n",
            "\u001b[K     |████████████████████████████████| 266kB 17.8MB/s \n",
            "\u001b[K     |████████████████████████████████| 235kB 16.2MB/s \n",
            "\u001b[K     |████████████████████████████████| 81kB 8.0MB/s \n",
            "\u001b[?25h  Building wheel for twint (setup.py) ... \u001b[?25l\u001b[?25hdone\n",
            "  Building wheel for fake-useragent (setup.py) ... \u001b[?25l\u001b[?25hdone\n",
            "  Building wheel for googletransx (setup.py) ... \u001b[?25l\u001b[?25hdone\n",
            "  Building wheel for idna-ssl (setup.py) ... \u001b[?25l\u001b[?25hdone\n",
            "  Building wheel for typing (setup.py) ... \u001b[?25l\u001b[?25hdone\n"
          ]
        }
      ],
      "execution_count": null,
      "metadata": {
        "id": "rTSx9HXzjQJB",
        "colab_type": "code",
        "colab": {
          "base_uri": "https://localhost:8080/",
          "height": 221
        },
        "executionInfo": {
          "status": "ok",
          "timestamp": 1600253741864,
          "user_tz": -60,
          "elapsed": 16124,
          "user": {
            "displayName": "Pragya Paudyal",
            "photoUrl": "",
            "userId": "13052186358156577789"
          }
        },
        "outputId": "86adc8b1-4ab2-4fdd-bb73-1efba958df82"
      }
    },
    {
      "cell_type": "code",
      "source": [
        "import pandas as pd\n",
        "\n",
        "# extract data from twitter \n",
        "import twint\n",
        "\n",
        "##Solve compatibility issues with notebooks and RunTime errors\n",
        "import nest_asyncio\n",
        "nest_asyncio.apply()\n"
      ],
      "outputs": [],
      "execution_count": 1,
      "metadata": {
        "id": "9NG8cKkdjfxn",
        "colab_type": "code",
        "colab": {},
        "executionInfo": {
          "status": "ok",
          "timestamp": 1600268435506,
          "user_tz": -60,
          "elapsed": 619,
          "user": {
            "displayName": "Pragya Paudyal",
            "photoUrl": "",
            "userId": "13052186358156577789"
          }
        }
      }
    },
    {
      "cell_type": "code",
      "source": [
        "# import nltk libraries\n",
        "\n",
        "import nltk\n",
        "from nltk import sent_tokenize, word_tokenize\n",
        "from nltk.stem.snowball import SnowballStemmer\n",
        "from nltk.stem.wordnet import WordNetLemmatizer\n",
        "from nltk.corpus import stopwords\n",
        "import re\n",
        "import string \n",
        "\n"
      ],
      "outputs": [],
      "execution_count": 2,
      "metadata": {
        "id": "7EknH3d9jonP",
        "colab_type": "code",
        "colab": {},
        "executionInfo": {
          "status": "ok",
          "timestamp": 1600268437131,
          "user_tz": -60,
          "elapsed": 970,
          "user": {
            "displayName": "Pragya Paudyal",
            "photoUrl": "",
            "userId": "13052186358156577789"
          }
        }
      }
    },
    {
      "cell_type": "code",
      "source": [
        "# setting up twint config\n",
        "\n",
        "c= twint.Config()\n",
        "\n",
        "# extracting data from twitter\n",
        "\n",
        "c.Search= \"COVID19\"\n",
        "c.Lang=\"en\"\n",
        "c.Pandas= True\n",
        "c.Limit= 100\n",
        "\n",
        "twint.run.Search(c)\n"
      ],
      "outputs": [
        {
          "output_type": "stream",
          "name": "stdout",
          "text": [
            "1306246616832077825 2020-09-16 15:00:36 UTC <oigetit_com> #Breaking - The U.S. government on Wednesday said it will start distributing a COVID-19 vaccine within one day of regulatory authorization as it plans for the possibility that a limited number of vaccine doses.  Read more:  http://oigetit.com  #COVID19 #vaccines pic.twitter.com/2dErnxjQw4\n",
            "1306246614122717184 2020-09-16 15:00:36 UTC <bucklerog> So Trump knew how bad covid19 is he has insighted his MAGA'S to protest against them. He knew and still no mandate.  How that inciting panic??? #TrumpLies200kDies\n",
            "1306246613460045826 2020-09-16 15:00:36 UTC <Nomad_Prophetc> Here we are 2 or 3 weeks in since school began and the school is now shutting down indefinitely for the in-person students because a sh*t load of kids have contracted #COVID19.  It's true. You can't fix stupid.\n",
            "1306246612335943680 2020-09-16 15:00:35 UTC <Nomad_Prophetc> Here's your shocker of the day.   Due to #COVID19 my kids school gave the option of remote learning or in person. Not an idiot so of course we chose remote.\n",
            "1306246610876325892 2020-09-16 15:00:35 UTC <tnhsfb> One TN county has postponed fall contact sports due to #covid19 pandemic.  READ:  http://ow.ly/mocf50BspC3  #football #highschoolfootball #TNHSFB pic.twitter.com/S9st6bQNRa\n",
            "1306246610016497665 2020-09-16 15:00:35 UTC <DavidReidVA> Get my latest #COVID19 Status Update at:   https://www.facebook.com/watch/?v=738870353561691 …\n",
            "1306246608657559553 2020-09-16 15:00:35 UTC <NPA1921> There is a requirement for employers to report certain work related accidents, occupational diseases and specified dangerous occurrences under The RIDDOR 2013, and there is further guidance on how to do this in relation to #COVID19.\n",
            "1306246607449608192 2020-09-16 15:00:34 UTC <UHhospitals> Due to the hundreds of flu strains, it is possible to get a flu vaccine and still contract the virus. But the vaccine significantly reduces those odds, decreasing the chance of contracting both the flu and #COVID19 at the same time. #fluseason http://bit.ly/UHFluSeason2020 \n",
            "1306246604370751488 2020-09-16 15:00:34 UTC <FrenchNaks> Get your #facemasks on😷 Click to explore my collection and take an exclusive 15% off any design. Your code: DISCOVERVIDA15  https://shopvida.com/products/shattered-blossoms-3335 … #COVID19 #MaskUp #Australia #lockdownMelbourne #coronavirus #BeSafeOutThere #facemask #filter #color #Masks\n",
            "1306246597601308673 2020-09-16 15:00:32 UTC <lakeemergency> Reduce the spread of #COVID19 by wearing your cloth face covering in public and keeping at least 6 feet of distance between yourself and others.  ❕ Remember: Cloth face coverings are not a substitute for social distancing.  pic.twitter.com/RnpYIJ3Jpf\n",
            "1306246597567754240 2020-09-16 15:00:32 UTC <sunlightconcept> Check out \"The Key Factors for a Healthy Home in a COVID-19 World\"  https://sunlightconcepts.blogspot.com/2020/08/the-key-factors-for-healthy-home-in-COVID-19.html … #sunlightconcepts #healthyhome #covid19 #naturallight\n",
            "1306246596938682368 2020-09-16 15:00:32 UTC <CHCShealth> Join this 9/24 webinar to learn how #Medicare-#Medicaid integrated care programs and health plans are meeting the needs of the #DualEligible population during the #COVID19 pandemic.  http://ow.ly/mg5N50Bf1Bh  @Arnold_Ventures @Centene @MinnesotaDHS @molinahealth\n",
            "1306246590156419075 2020-09-16 15:00:30 UTC <knwachter> About 120 patients a day, on average, became infected with #COVID19 inside hospitals between May 14 and July 14, previously unpublished CDC data shows   https://www.wsj.com/articles/hospitals-failed-to-fully-contain-covid-19-inside-their-walls-11600176536 … via @WSJ\n",
            "1306246588310917121 2020-09-16 15:00:30 UTC <FindBiometrics> Which #DigitalIdentity specialist just added four new executives?  #biometrics #COVID19 #DigitalID #CorporateNews #ExecutiveAppointments  http://ow.ly/cnWr50BstZO  pic.twitter.com/pKJNNWyVQo\n",
            "1306246587170123778 2020-09-16 15:00:29 UTC <epiphhealth> The impact of COVID-19 on one of our customer's cardiology department.   https://hubs.ly/H0vs1dd0  #healthcare, #digitalhealth, #hospitals, #managedcare, #interoperability, #healthit, #clinicalworkflow, #hospitalcloud, #cardiocloud, #COVID19\n",
            "1306246587107155971 2020-09-16 15:00:29 UTC <mammotome> The Webinar, Prepare for Post COVID-19, Maximize Stereo Suite Productivity, led by Dr. Darius Gilvydis has been added to our library of on-demand Webinars. Check it out:  http://ow.ly/hbZZ50BstAp  #MammotomeBreastEd #breastbiopsy #radiologist #breastcancer #webinar #COVID19  pic.twitter.com/TpM6aLCHxD\n",
            "1306246583441391624 2020-09-16 15:00:29 UTC <ppeneeds> This is \"manipulated\", just like your manipulated and failed #COVID19 response. Wisconsin had a record number ofactive covid cases yesterday. I don't know if you are aware because you seem so ill informed but people are dying.\n",
            "1306246582099226626 2020-09-16 15:00:28 UTC <healthystep> Therapy bands are used to strengthen, and help stretch muscles and are as effective for improving foot strength and function as they are elsewhere in the body. Find them in our online shop and exercises to use them in our advice hub:  https://www.healthystep.co.uk/shop/heel-fix-kit/therapy-band/ … #COVID19  pic.twitter.com/BuLUuJNPps\n",
            "1306246580878540801 2020-09-16 15:00:28 UTC <IBTTA> All the things that we started doing over the past 10 years, really helped us -  Donna Manuelli, CFO, New Jersey Turnpike Authority #IBTTAAnnual #IBTTA #transportation #covid19 #infrastructure\n",
            "1306246580140470273 2020-09-16 15:00:28 UTC <MyCityDied> Johns Creek GA 84,579 + Frederick MD 72,244 + Oregon City OR 37,339 + Quenemo KS 377 + Fabius NY 332 + Pukwana SD 305 + Fort Peck MT 239 + Caney City TX 220 + Ouzinkie AK 153 + Cusseta AL 124 + Foxhome MN 111 = 16Sep20 US confirmed #COVID19 deaths: 196,023\n",
            "1306246576730525696 2020-09-16 15:00:27 UTC <WambiCares> ⭐  Join us Tuesday, 9/29 at 12 pm EST for a panel with #healthcareleaders discussing the employee engagement environment in a post-COVID world moderated by Dr. David Shulkin. Register here:  https://bit.ly/wambileaderspanel9-29 ….   #healthcareinnovation #thoughtleadership #COVID19  pic.twitter.com/f3S2BUgydJ\n",
            "1306246574583042049 2020-09-16 15:00:26 UTC <DanBennett78> I am proud of my company @BrakesFoodShop This year during covid19 crisis, Brakes opened click & collect at depots to serve the public as an alternative to high risk Supermarkets.  Brakes served the hospital's, hospices, care homes, + food banks so well!  https://www.brakesfoodshop.co.uk/ \n",
            "1306246574511714310 2020-09-16 15:00:26 UTC <ShelbyTNHealth> Here is the @ShelbyTNHealth #COVID19 update for Wednesday, September 16, 2020.  For more information, please visit  http://shelbytnhealth.com  and click on COVID-19 Resource Center for the #DataDashboard page:   https://insight.livestories.com/s/v2/covid-19-data-dashboard-%7C-shelby-county-tn/e381a899-7ffe-43fe-b80f-c9e63ebfcef6 … pic.twitter.com/4rIqA3snBB\n",
            "1306246571009495041 2020-09-16 15:00:26 UTC <WorldTravelInc> Another exciting day in the World Travel studios. We can't wait to show you the next few episodes of 'Let's Go'. #businesstravel #corporatetravel #letsgo #worldtravelcares #covid19 #returntotravel pic.twitter.com/03Item8DyC\n",
            "1306246570187337728 2020-09-16 15:00:25 UTC <statcare> The influenza vaccine is now available at Statcare! Get one at any of our 8 urgent care locations in NYC.  https://bit.ly/nyc-statcare  ... #NewYork #NYC #CoronavirusNYC #CoronavirusPrevention #COVID19 #COVID19Prevention  #UrgentCare #WalkInClinic #QueensNY #Bronx #Brooklyn pic.twitter.com/dWuk3dRGvm\n",
            "1306246566844522498 2020-09-16 15:00:25 UTC <pndblog> KIND Foundation’s Frontline Impact Project #COVID19 response platform will direct resources to first responders facing #wildfires, #hurricanes and other catastrophes  http://ow.ly/tk8B30ra7Yc  #disasterrelief\n",
            "1306246564063608833 2020-09-16 15:00:24 UTC <BCMHouston_News> .@bcmhouston's @PeterHotez says vaccines are not magic solutions... so we will likely still need masks. Read more about how #COVID19 will change our normal day-to-day.  http://ow.ly/njnD50BswiT \n",
            "1306246562776076290 2020-09-16 15:00:24 UTC <saltmanchester> Between 2015-2018, London received four times more Arts Council funding than the rest of England.  Given the devastating impact of #COVID19 on the cultural sector, more funding needs to be allocated outside the capital.  pic.twitter.com/4A3xKg8hz5\n",
            "1306246562159484929 2020-09-16 15:00:23 UTC <G_Jose_> blacks and asians or any other ethnicity are not affected by covid19?  https://twitter.com/texastribune/status/1306245965351923712 …\n",
            "1306246561081384961 2020-09-16 15:00:23 UTC <thefirstindia> #Gujarat's #COVID19 tally rises to 1,17,709 with 1,364 new cases; toll up to 3,259 as 12 more patients die: Health Department.  #coronavirus #Corona #CoronavirusIndia pic.twitter.com/f3bhc9u4aE\n",
            "1306246560477454339 2020-09-16 15:00:23 UTC <openletterbot> 🖋 Sign “Investigate Forced Hysterectomies in ICE Detention” and I’ll deliver a copy to your officials:  https://twitter.com/messages/compose?recipient_id=835740314006511618&text=sign%20JDANUU … 📨 No. 440 is from Kerri to @RepJeffDuncan, @LindseyGrahamSC and @SenatorTimScott #SC03 #SCpolitics #SCpol #COVID19  pic.twitter.com/9jhING2IhE\n",
            "1306246560225914883 2020-09-16 15:00:23 UTC <starlift1233> Like the Covid19 isn't weapon enough!!$!\n",
            "1306246559919755266 2020-09-16 15:00:23 UTC <UWGreaterTO> One of the innovative ways United Way-supported agencies have kept seniors engaged, healthy and active during #COVID19 is through virtual activities including chair yoga. This Show Your #LocalLove Day (Sept. 25) you can try it for yourself! Sign up today!  https://untdwy.org/33FMjxg  pic.twitter.com/Ui9vBj2DHn\n",
            "1306246559617691650 2020-09-16 15:00:23 UTC <jgarciaonrubia> #Industrial companies are pulling back on R&D and #CAPEX spending due to #COVID19. However, they can generate strong returns, even with a smaller CAPEX and R&D budget, making surgical cuts and investments based on a well-defined #strategy. @BainAlerts https://www.bain.com/insights/focusing-randd-and-capex-to-win/?utm_source=twitter&utm_medium=social_organic&utm_content=3698821351&linkId=99750525 …\n",
            "1306246559563210752 2020-09-16 15:00:23 UTC <catawina> Four Covid Personality Types. #COVID19  pic.twitter.com/zPCILGIyxD\n",
            "1306246557147291650 2020-09-16 15:00:22 UTC <SLCStates> The #COVID19 pandemic upended global economic activity in the first quarter of 2020. By examining import and export data, SLC's latest policy analysis illustrates how the pandemic has impacted the U.S. economy. Dig deeper and explore the data here:  http://ow.ly/V2Zu50BszbH  pic.twitter.com/1NsF5tk8Mq\n",
            "1306246556761292800 2020-09-16 15:00:22 UTC <vigneshtp> Monoclonal antibody being developed by Eli Lilly and Company apparently helps sick #COVID19 patients rid their systems of the virus sooner, and may prevent them from landing in the hospital.  #CoronaVirus #pandemic #treatment\n",
            "1306246555150823425 2020-09-16 15:00:22 UTC <BloodDonorsIn> #Sangli Need #Blood Type :  B-positive At : Mission Hospital.  Blood Component : Need Plasma from AB+ve/B-ve #COVID19 recovered patient. Number of Units : 2 Primary Number : 9021242424 Secondary Number : 9326252627 Via: @abhiautade #BloodMatters Powered by Twitter pic.twitter.com/1FQ7KdIZiz\n",
            "1306246555138129922 2020-09-16 15:00:22 UTC <NACECME> Nursing home staff will have to be tested regularly for #COVID19, and facilities that fail to do so will face fines  http://ow.ly/86mb50BsxLl \n",
            "1306246554458697728 2020-09-16 15:00:22 UTC <lindsey_parnaby> At a time when the news industry should be working together in recovering from #COVID19 opportunism and exploitation of loyal contributors’ intellectual property is nothing short of greed. @TheBPPA and @NUJofficial urge all #freelancers not to sign: https://thebppa.com/photographers-call-on-news-uk-to-ditch-exploitative-contract/ …\n",
            "1306246552382570496 2020-09-16 15:00:21 UTC <TGCCG> Have you recovered from COVID-19? The #NHS needs YOU! Save a life by becoming a #PlasmaDonor!  Call 0300 123 123 or visit  http://NHSBT.nhs.uk  for more information!   Be part of the fight against #COVID19! @NHSBT pic.twitter.com/pRl8c2gy1b\n",
            "1306246552248299520 2020-09-16 15:00:21 UTC <WriterJCYoung> \"target humans\"   I don't necessarily doubt this, but it obviously failed because every other country has managed to control this thing.  Except us.   We sure #COVID19 wasn't IQ based?\n",
            "1306246551732449281 2020-09-16 15:00:21 UTC <COVID19_bot> Evolution of number of cases for Egypt, with a total confirmed of 101,340 pic.twitter.com/qzad2383PB\n",
            "1306246551279468546 2020-09-16 15:00:21 UTC <GlobalPandemics> ALERT: COVID-19 kills far more Hispanic and Black children than white youths - Global Pandemic News | #Coronavirus #COVID19 #Protests -  https://globalpandemic.net/news/covid-19-kills-far-more-hispanic-and-black-children-thanwhite-youths/ … pic.twitter.com/WhhVYSRbKn\n",
            "1306246551174631430 2020-09-16 15:00:21 UTC <thedextazlab> COVID-19 Updates (globally)  Total cases: 29,813,565  Dead: 940,804  Recovered: 21,615,109  Last updated: September 16, 2020, 14:57 GMT  #covid19 #COVIDー19 #coronavirus https://covid19.thedextazlab.com/?utm_source=thedextazlab …\n",
            "1306246550839087105 2020-09-16 15:00:21 UTC <TundeOjolaw> This is a key step before starting your business, as it provides you with invaluable information. Creating a business plan will allow you to better understand both operational and financial goals, providing crucial budget and marketing strategies. #UK #covid19 #business pic.twitter.com/tMoLZjPWpM\n",
            "1306246550440603653 2020-09-16 15:00:21 UTC <BorderReportcom> Toilet paper is back on store shelves. But you may not recognize some of the brands. #ToiletPaper #brands #COVID19  https://trib.al/12dWOpQ \n",
            "1306246549467471874 2020-09-16 15:00:20 UTC <Mo_IbrahimFdn> \"Amid the upheaval of global economic and political systems, there are opportunities for Africans to make constructive changes.\"  Following the #NowGeneration Survey, @MunaNgenda explores Africa's prospects post #COVID19 pandemic. #MIFScholars https://mo.ibrahim.foundation/news/2020/covid-19-africa-continents-prospects-post-pandemic …\n",
            "1306246549370884097 2020-09-16 15:00:20 UTC <the_BCBC> Thank you, Greg and @SaskatoonCycles, for sharing our story of how #COVID19 has impacted our organization and ways in which we are trying to creatively continue our programming during the pandemic. #yxe #yxebikes #communitybikeshop #byxe https://twitter.com/saskatooncycles/status/1306231599088893954 …\n",
            "1306246546095308800 2020-09-16 15:00:20 UTC <RebelScumTR8R> Omg @SenSherrodBrown is ripping #Smithfield   1/3 of workers got sick during #Covid19   Calls 45* a \"Corporate President\". He has betrayed workers over and over. Stacks the courts with corporate lawyers.\n",
            "1306246546061656064 2020-09-16 15:00:20 UTC <Tracy86370682> Did you happen to read some of the above comments.  😲  This is the kind of division  you have helped create @Surgeon_General. You should #RESIGN  you make me sick.  I'll never trust you or this administration for the #truth #COVID19 #WearADamnMask\n",
            "1306246545772359683 2020-09-16 15:00:20 UTC <QuidelDX> Join Quidel at the premier ESCMID Congress of Coronavirus Disease (ECCVID) and determine which COVID-19 diagnostic testing solutions are best suited for you. In addition to visiting our virtual booth, we invite you to take part in our Online Product Workshop. #ECCVID #COVID19  pic.twitter.com/WQMeqdkHUa\n",
            "1306246540881809409 2020-09-16 15:00:18 UTC <CovidData2> New COVID-19 Data at 2020-09-16 11:00:00 am EDT #Coronavirus #COVID19  pic.twitter.com/Ky19gxlsSd\n",
            "1306246538679717890 2020-09-16 15:00:18 UTC <CatholicRelief> No matter where you live, it can be tough to find a place to wash your hands outside. In this market in Northern #Ghana, CRS field officers demonstrate how to wash hands using a “tippy tap,\" part of a program to help prevent the spread of #COVID19.  pic.twitter.com/nbzbaFyn4f\n",
            "1306246536150614016 2020-09-16 15:00:17 UTC <AbraarKaran> By now, many of us have heard of the few famous outbreak investigations- COVID19 spread in a restaurant in China; in kids’ camps in Georgia; in a wedding in Jordan; in a call center in South Korea.   8 months in, we should have way more data than this...   https://www.washingtonpost.com/outlook/2020/09/15/covid-transmission-local-strategy/ …\n",
            "1306246534594519046 2020-09-16 15:00:17 UTC <fcovid_19> 09-16-2020 #COVID19 status  😷 Total Confirmed: 29,853,136  ☠️ Total Deaths: 942,062  💉 Total Recovered: 21,414,679  👨‍⚕️ Active Cases : 7,496,395  ℹ️ For more data:  http://corona.mahirtkn.design  #coronavirus #China\n",
            "1306246533923442695 2020-09-16 15:00:17 UTC <B1G_BAZ> Remember this is all based on a flawed testing method that produces false positive results! Deaths that have been reclassified as covid regardless of the actual cause, and a 99.9% recovery rate! #Plandemic #Agenda21 #ID2020 #Operationlockstep #Quantumtattoo #Coronavirus #Covid19\n",
            "1306246529984888834 2020-09-16 15:00:16 UTC <FernandaDiGenio> #secondwaves Where and when are second waves of COVID19 comming? Dr Márcio Watanabe shows Thatcher seasonality drives COVID19.   http://www.medrxiv.org/content/10.1101/2020.09.02.20187203v1 …\n",
            "1306246529024393217 2020-09-16 15:00:16 UTC <CitizenPowerIFC> China despised worldwide for its bullying, lying and expansionist incursions by Dr. Yang Jianli @yangjianli001 @WashTimes #COVID19  https://www.washingtontimes.com/news/2020/sep/15/china-despised-worldwide-for-its-bullying-lying-an/ …\n",
            "1306246526524678146 2020-09-16 15:00:15 UTC <strongnationUSA> “Besides the costs and the increased susceptibility to diseases such as #COVID19, an unhealthy nation will also have problems ensuring its own national security,” - Mission: Readiness member Lieutenant General (Ret.) @TomSpoehr via @dcexaminer: https://washex.am/32eEtuE \n",
            "1306246526285623297 2020-09-16 15:00:15 UTC <BernardMarr> For decades, companies have relied on focus groups to get qualitative or emotional input about how customers view its products, services, or organisation.  Discover how to conduct a successful customer focus group in lockdown >  https://bit.ly/32kmovv  #COVID19  pic.twitter.com/vLvhgr4UO1\n",
            "1306246525165727746 2020-09-16 15:00:15 UTC <prisonsociety> In addition to newly incarcerated individuals being tested and quarantined, #paprisonsociety is calling for weekly testing of all facility staff to stay on top of any asymptomatic spreads.  Track the spread of #COVID19 across PA county jails. ➡️  https://bit.ly/2YyGgsy  pic.twitter.com/2HcZdEPpKg\n",
            "1306246524586913792 2020-09-16 15:00:15 UTC <tmcoronabusters> #GlobalTeamCoronaBusters needs your support, and is committed to providing another 5,000 FREE #FaceMasks for #FrontlineWorkers. Please consider a pledge today on #Kickstarter.  https://bit.ly/34iRAN6  Lots of rewards for your philanthropy. Campaign ends 10/1. #COVID19 #SaveLives pic.twitter.com/VPFNkUWRem\n",
            "1306246524406583297 2020-09-16 15:00:14 UTC <Beatson_Charity> Well done @BishopbriggsAC for being acknowledged and recognised in @ScotParl today by Rona MacKay MSP.  #fundraising #COVID19 👏  https://twitter.com/RonaMackayMSP/status/1306223801865302022 …\n",
            "1306246523873898496 2020-09-16 15:00:14 UTC <dataylor1> In 1939 local fed writer Jane Leary of Lynn, MA interviewed James Hughes about his memories of the 1918 Influenza Epidemic. Read it on @LibraryCongress #AmericanFolklifeCenter:  https://buff.ly/3inCNVo  #wpawriters #Covid19 #ushistory pic.twitter.com/95AaVdg6cO\n",
            "1306246523144077313 2020-09-16 15:00:14 UTC <NORCALGroup> #COVID19 #Cybersecurity: Building Resilience Beyond the Crisis | @JF_Davis_, @SecurityHIT | #DigitalHealth https://hubs.ly/H0vVvH50 \n",
            "1306246513753034754 2020-09-16 15:00:12 UTC <atownsquare> Big Ten reverses field, set to play football this autumn after all #Really? #COVID19 Games  https://www.nbcnews.com/news/us-news/big-ten-reverses-field-set-play-football-autumn-after-all-n1239971 …\n",
            "1306246513023242246 2020-09-16 15:00:12 UTC <gmanhum> COVID19, the cure is worst than the disease. Fascism is in America in the guise of Democrat's racial anarchy & COVID19. Democrats are destroying America, as well as killing 🇱🇷WeThePeople. No more is it Republicans vs Democrats but Freedom vs Tyranny.  https://www.gpb.org/news/2020/09/14/fentanyl-related-overdose-deaths-increase-more-60-march …\n",
            "1306246512792547330 2020-09-16 15:00:12 UTC <lilmaggie186> until  #COVID19  hits  the players .\n",
            "1306246512129736709 2020-09-16 15:00:12 UTC <PIMCO> Intermittent school closures aren’t necessarily bad news for credit investors.  https://pim.co/rb7vl  #covid19 #munibonds #investing pic.twitter.com/CVN9SFesmT\n",
            "1306246511638974464 2020-09-16 15:00:11 UTC <CandidCartiere> I'd rather eat a cactus 🌵#covid19  https://twitter.com/ABC7/status/1306238499855593472 … pic.twitter.com/4PbXfN3ePC\n",
            "1306246505242800129 2020-09-16 15:00:10 UTC <CovidUpdateEU> 🦠 Follow @CovidUpdateEU : Update around the World 🌍 🚑 Total cases: 29,813,565 (24798 since last update) Cases closed: 22,555,913 (75.66%) ☠️ Total deaths: 940,804 (4.17%) * 🧬 Total recovered: 21,615,109 (95.83%) * * of closed cases   #CoronaVirusUpdates #COVID19 #COVIDー19\n",
            "1306246502726209536 2020-09-16 15:00:09 UTC <IHME_UW> The rate of #COVID19 transmission could be significantly decreased by maintaining social distancing and achieving 95% mask use.  Explore new simulations that demonstrate several scenarios 😷  http://bit.ly/95masksimulation … pic.twitter.com/UZIN7unnEf\n",
            "1306246502298288129 2020-09-16 15:00:09 UTC <azulitagrana721> Besides posting tweets every morning what's the plans before we count 500 COVID19 cases daily? @celliottability @fordnation @JohnTory https://twitter.com/celliottability/status/1306235579370213378 …\n",
            "1306246500788428801 2020-09-16 15:00:09 UTC <UNDGC_CSO> Civil Society has been playing a critical role in meeting the needs of local, regional, and global communities throughout the #COVID19 pandemic.  Visit 👉 https://bit.ly/CSOresponseCOVID19 … to read the highlights of their work showing Solidarity in Action! #UNwithCivilSociety pic.twitter.com/HCXVEwOqsW\n",
            "1306246497743273984 2020-09-16 15:00:08 UTC <B1G_BAZ> Remember this is all based on a flawed testing method that produces false positive results! Deaths that have been reclassified as covid regardless of the actual cause, and a 99.9% recovery rate! #Plandemic #Agenda21 #ID2020 #Operationlockstep #Quantumtattoo #Coronavirus #Covid19\n",
            "1306246497646915584 2020-09-16 15:00:08 UTC <iamnancie_14> Who is interested in earning commission from referrals and sales of our Handwash station? Dm or chat 09057271002. #LayconGoingNowhere #BBNaijia2020 #OZOisWinning #Ferrari #COVID19 #Yahoo pic.twitter.com/QCnMhmP7Hs\n",
            "1306246494467641344 2020-09-16 15:00:07 UTC <reigatebanstead> Changing your food business model for delivery can introduce new hygiene and safety risks to your operation. Make sure you’re compliant and protecting your customers with @foodgov guidance for businesses adapting during #COVID19:  http://orlo.uk/KeokF  #SupportingFood pic.twitter.com/wYjSlk6yBS\n",
            "1306246489275064320 2020-09-16 15:00:06 UTC <FernandaDiGenio> #secondwaves Where and when are second waves of COVID19 comming? Dr Márcio Watanabe shows Thatcher seasonality drives COVID19.   http://www.medrxiv.org/content/10.1101/2020.09.02.20187203v1 …\n",
            "1306246489128292358 2020-09-16 15:00:06 UTC <PoppyArt5> Not enough have been exposed yet... Only 1-2% of the population have had (or currently have) Covid19...\n",
            "1306246487592951810 2020-09-16 15:00:06 UTC <gravityRox> If that bug is in the blood, fck your compensation and pre existing conditions.  Covid19 killed the host.  pic.twitter.com/vGrTQhQDBZ\n",
            "1306246486154502145 2020-09-16 15:00:05 UTC <PayNews> New #COVID19-related paid sick leave requirements recently took effect for certain Nevada hospitality workers. PayState Update has more details.  https://hubs.ly/H0w9FPG0  #payroll pic.twitter.com/4n10UCXf9P\n",
            "1306246484384526336 2020-09-16 15:00:05 UTC <c5mi_yash> We are surveying our community to pinpoint the specific obstacles that supply chain organizations face when managing relationships. Please take our survey!  https://hubs.la/H0wmMP20  #Technology #scm #business #supplychain #industry40 #covid19 @SAP @YASH_Tech @c5mi_yash pic.twitter.com/7zi1Fia3Zm\n",
            "1306246484057370624 2020-09-16 15:00:05 UTC <Docphd45> If I was manager, I would of gotten the employees out and lock the doors and let the dogs loose. Then they see how funny it is. Their spreading Covid19 and putting people’s lives in danger. The little brats.\n",
            "1306246483369365504 2020-09-16 15:00:05 UTC <rohanmantri> .@Gartner_inc says #security & #risk leaders must balance risk, trust and opportunity to succeed in uncertain times. Read more insights from  @Gartner_IT analyst Jeffrey Wheatman, live from #GartnerSEC. #CISO #COVID19  https://gtnr.it/2ZBM8BC \n",
            "1306246480769024002 2020-09-16 15:00:04 UTC <choosedelaware> Not only is she on the front lines of the #COVID19 pandemic, but @DelStateUniv Student Health Services director Michelle Fisher has been named one of #Delaware’s Top #Nurses in two categories by @DelawareToday.   https://hubs.ly/H0w7Lsj0  #ChooseDelaware #NetDE #nursing\n",
            "1306246476616601603 2020-09-16 15:00:03 UTC <Wilson_MHI> NEW from MHI: Our coverage of a recent event hosted by @UNFPA and @CARE on the impact of #COVID19 on #women and #girls, featuring @RepHoulahan. Learn more: https://bit.ly/35IUnQ7 \n",
            "1306246474687078400 2020-09-16 15:00:03 UTC <NIOSH> As an employer, your workers could be at an increased risk for heat-related illness during #COVID19. Find resources and information to implement heat illness prevention programs and safety measures to keep your workers safe:   https://go.usa.gov/xGWGN  pic.twitter.com/NhFUXVpyHd\n",
            "1306246474489978887 2020-09-16 15:00:03 UTC <UMaine> Timothy Boester, assistant professor of mathematics education @UMaine, devises methods for preserving active, collaborative and learner-focused teaching in Precalculus during the #COVID19 pandemic.  https://umaine.edu/news/blog/2020/08/26/boester-devises-methods-to-preserve-collaborative-learner-focused-mathematics-instruction-during-pandemic/ …\n",
            "1306246474393681931 2020-09-16 15:00:03 UTC <WFPUSA> Logistics is critical to the international community's ability to fight emergencies such as the #COVID19 pandemic.  @WFP is working hard to ensure humanitarian supply lines keep running 📦, planes keep flying ✈️ and aid workers are able to reach those most in need. #UNGA #UNGA75 pic.twitter.com/pK1zVWDSOO\n",
            "1306246474276036610 2020-09-16 15:00:03 UTC <EPDeu> LIVE NOW   Join us for this #DemocracyWeek2020 discussion on political parties in light of #COVID19 with  @Natasha9Mazzone, @JulioBorges and #MachrisCabreros 📺 https://youtu.be/nWc73ztCer8 \n",
            "1306246473701449731 2020-09-16 15:00:02 UTC <CanAditude> What are you doing to hit your IMMIGRATION TARGET, \"we will continue to innovate AROUND the disruptions which has been caused by #COVID19\" What about REUNITING family members, \"the measures we have introduced at the border are designed to protect the health & safety of Canadians\"  pic.twitter.com/644n2UDEtD\n",
            "1306246473625956356 2020-09-16 15:00:02 UTC <ema_simo> Among #communications and #media companies, the need for #VirtualTeams puts newcomers to #agile in a tough position. @Cognizant's Carol Houle and Daniel Weinbaum share steps to extend agile into a #RemoteWorld. #COVID19  https://lnkd.in/giA5i48 \n",
            "1306246473240068097 2020-09-16 15:00:02 UTC <CityOfBoston> During the first-ever @DoITBoston high school digital storytelling internship, three @BostonSchools students created a video to illustrate the work done by youth around Boston to help their communities during #COVID19. Learn more:  http://ow.ly/Ga3N50BspWo  pic.twitter.com/1v69Brrl3s\n",
            "1306246472942399489 2020-09-16 15:00:02 UTC <GOALNextGen> #UNGA75 began yesterday! Almost entirely online, to combat #COVID19, during this opening week, Heads of State/Government will exchange recorded statements, played to near-empty General Assembly Hall:  https://bit.ly/32AvKU3  @GOAL_Global @UN @Irish_Aid #future #SDGs #Act4SDGs\n",
            "1306246471772073992 2020-09-16 15:00:02 UTC <DonegalInvest> Check out our guide to the #Covid19 supports for business at  https://bit.ly/3bZmYlj  @donegalcouncil Get in touch with our Business Concierge Team at economicdevelopment@donegalcoco.ie for further guidance or assistance. #lovedonegal #investdonegal pic.twitter.com/8Ve2xW8XPM\n",
            "1306246471487021058 2020-09-16 15:00:02 UTC <YorkRegion> #Stouffville town hall to remain closed until 2021. #coronavirus #COVID19  https://bit.ly/3iAwP3K  pic.twitter.com/XAK7l3jAWg\n",
            "1306246471457501184 2020-09-16 15:00:02 UTC <GaonConnectionE> The #GaonConnection survey on impact of #COVID19 #lockdown on rural India found that 23% #migrantworkers walked back home, 40% faced food scarcity and 12 per cent were reportedly beaten by the police. Read more:  https://bit.ly/3iF9YnM  @migrant_IN @StrandedWorkers pic.twitter.com/wu5X4Osmtn\n",
            "1306246470790647808 2020-09-16 15:00:02 UTC <Halpingal> I looked at the Aug 27th presentation slides by @covid19_hgi  Laura Sloofman (MSSM) & Mohd Anisul Karim presented an association between ABO and SARS-CoV-2 but please someone correct me if I’m wrong. I remembered because this is my area of interest- but from an antibody POV.\n",
            "1306246470400704514 2020-09-16 15:00:02 UTC <EY_UKI> Mistrust in social media has grown as a result of the #COVID19 pandemic, with the issue of tackling fake news becoming a key priority. Get the latest insights:  http://spr.ly/6012Gsgqq  #EyDigitalHome pic.twitter.com/Mra8RbdxHf\n"
          ]
        }
      ],
      "execution_count": 3,
      "metadata": {
        "id": "IZjkjcYumBZ0",
        "colab_type": "code",
        "colab": {
          "base_uri": "https://localhost:8080/",
          "height": 1000
        },
        "executionInfo": {
          "status": "ok",
          "timestamp": 1600268441982,
          "user_tz": -60,
          "elapsed": 4262,
          "user": {
            "displayName": "Pragya Paudyal",
            "photoUrl": "",
            "userId": "13052186358156577789"
          }
        },
        "outputId": "d1a952bd-313c-4911-c9a8-e8a7a65a684f"
      }
    },
    {
      "cell_type": "code",
      "source": [
        "# Saving in dataframe\n",
        "\n",
        "def columne_names():\n",
        "  return twint.output.panda.Tweets_df.columns"
      ],
      "outputs": [],
      "execution_count": 4,
      "metadata": {
        "id": "jdNjeOakmn3R",
        "colab_type": "code",
        "colab": {},
        "executionInfo": {
          "status": "ok",
          "timestamp": 1600268444426,
          "user_tz": -60,
          "elapsed": 417,
          "user": {
            "displayName": "Pragya Paudyal",
            "photoUrl": "",
            "userId": "13052186358156577789"
          }
        }
      }
    },
    {
      "cell_type": "code",
      "source": [
        "def twint_to_pd(columns):\n",
        "  return twint.output.panda.Tweets_df[columns]"
      ],
      "outputs": [],
      "execution_count": 6,
      "metadata": {
        "id": "k3xqbaKJnBb3",
        "colab_type": "code",
        "colab": {},
        "executionInfo": {
          "status": "ok",
          "timestamp": 1600268447043,
          "user_tz": -60,
          "elapsed": 577,
          "user": {
            "displayName": "Pragya Paudyal",
            "photoUrl": "",
            "userId": "13052186358156577789"
          }
        }
      }
    },
    {
      "cell_type": "code",
      "source": [
        "data= twint_to_pd([\"tweet\"])"
      ],
      "outputs": [],
      "execution_count": 7,
      "metadata": {
        "id": "qDqSkaY0nEoY",
        "colab_type": "code",
        "colab": {},
        "executionInfo": {
          "status": "ok",
          "timestamp": 1600268448056,
          "user_tz": -60,
          "elapsed": 427,
          "user": {
            "displayName": "Pragya Paudyal",
            "photoUrl": "",
            "userId": "13052186358156577789"
          }
        }
      }
    },
    {
      "cell_type": "code",
      "source": [
        "data.head()"
      ],
      "outputs": [
        {
          "output_type": "execute_result",
          "execution_count": 8,
          "data": {
            "text/html": [
              "<div>\n",
              "<style scoped>\n",
              "    .dataframe tbody tr th:only-of-type {\n",
              "        vertical-align: middle;\n",
              "    }\n",
              "\n",
              "    .dataframe tbody tr th {\n",
              "        vertical-align: top;\n",
              "    }\n",
              "\n",
              "    .dataframe thead th {\n",
              "        text-align: right;\n",
              "    }\n",
              "</style>\n",
              "<table border=\"1\" class=\"dataframe\">\n",
              "  <thead>\n",
              "    <tr style=\"text-align: right;\">\n",
              "      <th></th>\n",
              "      <th>tweet</th>\n",
              "    </tr>\n",
              "  </thead>\n",
              "  <tbody>\n",
              "    <tr>\n",
              "      <th>0</th>\n",
              "      <td>#Breaking - The U.S. government on Wednesday s...</td>\n",
              "    </tr>\n",
              "    <tr>\n",
              "      <th>1</th>\n",
              "      <td>So Trump knew how bad covid19 is he has insigh...</td>\n",
              "    </tr>\n",
              "    <tr>\n",
              "      <th>2</th>\n",
              "      <td>Here we are 2 or 3 weeks in since school began...</td>\n",
              "    </tr>\n",
              "    <tr>\n",
              "      <th>3</th>\n",
              "      <td>Here's your shocker of the day. \\n\\nDue to #CO...</td>\n",
              "    </tr>\n",
              "    <tr>\n",
              "      <th>4</th>\n",
              "      <td>One TN county has postponed fall contact sport...</td>\n",
              "    </tr>\n",
              "  </tbody>\n",
              "</table>\n",
              "</div>"
            ],
            "text/plain": [
              "                                               tweet\n",
              "0  #Breaking - The U.S. government on Wednesday s...\n",
              "1  So Trump knew how bad covid19 is he has insigh...\n",
              "2  Here we are 2 or 3 weeks in since school began...\n",
              "3  Here's your shocker of the day. \\n\\nDue to #CO...\n",
              "4  One TN county has postponed fall contact sport..."
            ]
          },
          "metadata": {
            "tags": []
          }
        }
      ],
      "execution_count": 8,
      "metadata": {
        "id": "yOaV1vJhnGhA",
        "colab_type": "code",
        "colab": {
          "base_uri": "https://localhost:8080/",
          "height": 204
        },
        "executionInfo": {
          "status": "ok",
          "timestamp": 1600268449242,
          "user_tz": -60,
          "elapsed": 465,
          "user": {
            "displayName": "Pragya Paudyal",
            "photoUrl": "",
            "userId": "13052186358156577789"
          }
        },
        "outputId": "d0fd26e7-307b-41c6-9785-a566cc7c8bb0"
      }
    },
    {
      "cell_type": "code",
      "source": [
        " data[\"tweet\"]= data[\"tweet\"].str.replace(\"[^a-zA-Z0-9]\", \" \")\n",
        " "
      ],
      "outputs": [
        {
          "output_type": "stream",
          "name": "stderr",
          "text": [
            "/usr/local/lib/python3.6/dist-packages/ipykernel_launcher.py:1: SettingWithCopyWarning: \n",
            "A value is trying to be set on a copy of a slice from a DataFrame.\n",
            "Try using .loc[row_indexer,col_indexer] = value instead\n",
            "\n",
            "See the caveats in the documentation: https://pandas.pydata.org/pandas-docs/stable/user_guide/indexing.html#returning-a-view-versus-a-copy\n",
            "  \"\"\"Entry point for launching an IPython kernel.\n"
          ]
        }
      ],
      "execution_count": 9,
      "metadata": {
        "id": "AkeF0hJDnW7v",
        "colab_type": "code",
        "colab": {
          "base_uri": "https://localhost:8080/",
          "height": 139
        },
        "executionInfo": {
          "status": "ok",
          "timestamp": 1600268450509,
          "user_tz": -60,
          "elapsed": 425,
          "user": {
            "displayName": "Pragya Paudyal",
            "photoUrl": "",
            "userId": "13052186358156577789"
          }
        },
        "outputId": "6fb57afb-82ab-4e13-e025-c74f01d698c8"
      }
    },
    {
      "cell_type": "code",
      "source": [
        "data"
      ],
      "outputs": [
        {
          "output_type": "execute_result",
          "execution_count": 10,
          "data": {
            "text/html": [
              "<div>\n",
              "<style scoped>\n",
              "    .dataframe tbody tr th:only-of-type {\n",
              "        vertical-align: middle;\n",
              "    }\n",
              "\n",
              "    .dataframe tbody tr th {\n",
              "        vertical-align: top;\n",
              "    }\n",
              "\n",
              "    .dataframe thead th {\n",
              "        text-align: right;\n",
              "    }\n",
              "</style>\n",
              "<table border=\"1\" class=\"dataframe\">\n",
              "  <thead>\n",
              "    <tr style=\"text-align: right;\">\n",
              "      <th></th>\n",
              "      <th>tweet</th>\n",
              "    </tr>\n",
              "  </thead>\n",
              "  <tbody>\n",
              "    <tr>\n",
              "      <th>0</th>\n",
              "      <td>Breaking   The U S  government on Wednesday s...</td>\n",
              "    </tr>\n",
              "    <tr>\n",
              "      <th>1</th>\n",
              "      <td>So Trump knew how bad covid19 is he has insigh...</td>\n",
              "    </tr>\n",
              "    <tr>\n",
              "      <th>2</th>\n",
              "      <td>Here we are 2 or 3 weeks in since school began...</td>\n",
              "    </tr>\n",
              "    <tr>\n",
              "      <th>3</th>\n",
              "      <td>Here s your shocker of the day    Due to  COVI...</td>\n",
              "    </tr>\n",
              "    <tr>\n",
              "      <th>4</th>\n",
              "      <td>One TN county has postponed fall contact sport...</td>\n",
              "    </tr>\n",
              "    <tr>\n",
              "      <th>...</th>\n",
              "      <td>...</td>\n",
              "    </tr>\n",
              "    <tr>\n",
              "      <th>95</th>\n",
              "      <td>Check out our guide to the  Covid19 supports f...</td>\n",
              "    </tr>\n",
              "    <tr>\n",
              "      <th>96</th>\n",
              "      <td>Stouffville town hall to remain closed until ...</td>\n",
              "    </tr>\n",
              "    <tr>\n",
              "      <th>97</th>\n",
              "      <td>The  GaonConnection survey on impact of  COVID...</td>\n",
              "    </tr>\n",
              "    <tr>\n",
              "      <th>98</th>\n",
              "      <td>I looked at the Aug 27th presentation slides b...</td>\n",
              "    </tr>\n",
              "    <tr>\n",
              "      <th>99</th>\n",
              "      <td>Mistrust in social media has grown as a result...</td>\n",
              "    </tr>\n",
              "  </tbody>\n",
              "</table>\n",
              "<p>100 rows × 1 columns</p>\n",
              "</div>"
            ],
            "text/plain": [
              "                                                tweet\n",
              "0    Breaking   The U S  government on Wednesday s...\n",
              "1   So Trump knew how bad covid19 is he has insigh...\n",
              "2   Here we are 2 or 3 weeks in since school began...\n",
              "3   Here s your shocker of the day    Due to  COVI...\n",
              "4   One TN county has postponed fall contact sport...\n",
              "..                                                ...\n",
              "95  Check out our guide to the  Covid19 supports f...\n",
              "96   Stouffville town hall to remain closed until ...\n",
              "97  The  GaonConnection survey on impact of  COVID...\n",
              "98  I looked at the Aug 27th presentation slides b...\n",
              "99  Mistrust in social media has grown as a result...\n",
              "\n[100 rows x 1 columns]"
            ]
          },
          "metadata": {
            "tags": []
          }
        }
      ],
      "execution_count": 10,
      "metadata": {
        "id": "UOH6pquIVz98",
        "colab_type": "code",
        "colab": {
          "base_uri": "https://localhost:8080/",
          "height": 419
        },
        "executionInfo": {
          "status": "ok",
          "timestamp": 1600268452053,
          "user_tz": -60,
          "elapsed": 444,
          "user": {
            "displayName": "Pragya Paudyal",
            "photoUrl": "",
            "userId": "13052186358156577789"
          }
        },
        "outputId": "f18707a3-3d86-4ea4-81de-68e5520d6d79"
      }
    },
    {
      "cell_type": "markdown",
      "source": [
        "Preprocessing process (involves 4 steps )\n",
        "1. Removing punctuation\n",
        "2. Tokenization\n",
        "3. Remove stopwords\n",
        "4. Lemmatize/ stem"
      ],
      "metadata": {}
    },
    {
      "cell_type": "code",
      "source": [
        "# removing short words/ punctuation\n",
        "data[\"tweet\"]= data[\"tweet\"].apply(lambda x: \" \".join ([w for w in x.split() if len (w)>3])"
      ],
      "outputs": [
        {
          "output_type": "stream",
          "name": "stderr",
          "text": [
            "/usr/local/lib/python3.6/dist-packages/ipykernel_launcher.py:3: SettingWithCopyWarning: \n",
            "A value is trying to be set on a copy of a slice from a DataFrame.\n",
            "Try using .loc[row_indexer,col_indexer] = value instead\n",
            "\n",
            "See the caveats in the documentation: https://pandas.pydata.org/pandas-docs/stable/user_guide/indexing.html#returning-a-view-versus-a-copy\n",
            "  This is separate from the ipykernel package so we can avoid doing imports until\n"
          ]
        }
      ],
      "execution_count": 11,
      "metadata": {
        "id": "BqkWPnDY6WWX",
        "colab_type": "code",
        "colab": {
          "base_uri": "https://localhost:8080/",
          "height": 139
        },
        "executionInfo": {
          "status": "ok",
          "timestamp": 1600268453613,
          "user_tz": -60,
          "elapsed": 427,
          "user": {
            "displayName": "Pragya Paudyal",
            "photoUrl": "",
            "userId": "13052186358156577789"
          }
        },
        "outputId": "5dc682f0-dbbc-4a4a-cfaf-674cc94c53ee"
      }
    },
    {
      "cell_type": "code",
      "source": [
        "data"
      ],
      "outputs": [
        {
          "output_type": "execute_result",
          "execution_count": 12,
          "data": {
            "text/html": [
              "<div>\n",
              "<style scoped>\n",
              "    .dataframe tbody tr th:only-of-type {\n",
              "        vertical-align: middle;\n",
              "    }\n",
              "\n",
              "    .dataframe tbody tr th {\n",
              "        vertical-align: top;\n",
              "    }\n",
              "\n",
              "    .dataframe thead th {\n",
              "        text-align: right;\n",
              "    }\n",
              "</style>\n",
              "<table border=\"1\" class=\"dataframe\">\n",
              "  <thead>\n",
              "    <tr style=\"text-align: right;\">\n",
              "      <th></th>\n",
              "      <th>tweet</th>\n",
              "    </tr>\n",
              "  </thead>\n",
              "  <tbody>\n",
              "    <tr>\n",
              "      <th>0</th>\n",
              "      <td>Breaking government Wednesday said will start ...</td>\n",
              "    </tr>\n",
              "    <tr>\n",
              "      <th>1</th>\n",
              "      <td>Trump knew covid19 insighted MAGA protest agai...</td>\n",
              "    </tr>\n",
              "    <tr>\n",
              "      <th>2</th>\n",
              "      <td>Here weeks since school began school shutting ...</td>\n",
              "    </tr>\n",
              "    <tr>\n",
              "      <th>3</th>\n",
              "      <td>Here your shocker COVID19 kids school gave opt...</td>\n",
              "    </tr>\n",
              "    <tr>\n",
              "      <th>4</th>\n",
              "      <td>county postponed fall contact sports covid19 p...</td>\n",
              "    </tr>\n",
              "    <tr>\n",
              "      <th>...</th>\n",
              "      <td>...</td>\n",
              "    </tr>\n",
              "    <tr>\n",
              "      <th>95</th>\n",
              "      <td>Check guide Covid19 supports business https 3b...</td>\n",
              "    </tr>\n",
              "    <tr>\n",
              "      <th>96</th>\n",
              "      <td>Stouffville town hall remain closed until 2021...</td>\n",
              "    </tr>\n",
              "    <tr>\n",
              "      <th>97</th>\n",
              "      <td>GaonConnection survey impact COVID19 lockdown ...</td>\n",
              "    </tr>\n",
              "    <tr>\n",
              "      <th>98</th>\n",
              "      <td>looked 27th presentation slides covid19 Laura ...</td>\n",
              "    </tr>\n",
              "    <tr>\n",
              "      <th>99</th>\n",
              "      <td>Mistrust social media grown result COVID19 pan...</td>\n",
              "    </tr>\n",
              "  </tbody>\n",
              "</table>\n",
              "<p>100 rows × 1 columns</p>\n",
              "</div>"
            ],
            "text/plain": [
              "                                                tweet\n",
              "0   Breaking government Wednesday said will start ...\n",
              "1   Trump knew covid19 insighted MAGA protest agai...\n",
              "2   Here weeks since school began school shutting ...\n",
              "3   Here your shocker COVID19 kids school gave opt...\n",
              "4   county postponed fall contact sports covid19 p...\n",
              "..                                                ...\n",
              "95  Check guide Covid19 supports business https 3b...\n",
              "96  Stouffville town hall remain closed until 2021...\n",
              "97  GaonConnection survey impact COVID19 lockdown ...\n",
              "98  looked 27th presentation slides covid19 Laura ...\n",
              "99  Mistrust social media grown result COVID19 pan...\n",
              "\n[100 rows x 1 columns]"
            ]
          },
          "metadata": {
            "tags": []
          }
        }
      ],
      "execution_count": 12,
      "metadata": {
        "id": "J8bgsMp_IOIe",
        "colab_type": "code",
        "colab": {
          "base_uri": "https://localhost:8080/",
          "height": 419
        },
        "executionInfo": {
          "status": "ok",
          "timestamp": 1600268454976,
          "user_tz": -60,
          "elapsed": 464,
          "user": {
            "displayName": "Pragya Paudyal",
            "photoUrl": "",
            "userId": "13052186358156577789"
          }
        },
        "outputId": "5f780422-dc28-48ea-fc83-85f03eb0e69e"
      }
    },
    {
      "cell_type": "code",
      "source": [
        "# tokenize the data\n",
        "\n",
        "def tokenize(text):\n",
        "    tokens = re.split(\"\\W+\", text)\n",
        "    return tokens\n",
        "data['tweet']= data['tweet'].apply (lambda x: tokenize(x.lower()))\n"
      ],
      "outputs": [
        {
          "output_type": "stream",
          "name": "stderr",
          "text": [
            "/usr/local/lib/python3.6/dist-packages/ipykernel_launcher.py:5: SettingWithCopyWarning: \n",
            "A value is trying to be set on a copy of a slice from a DataFrame.\n",
            "Try using .loc[row_indexer,col_indexer] = value instead\n",
            "\n",
            "See the caveats in the documentation: https://pandas.pydata.org/pandas-docs/stable/user_guide/indexing.html#returning-a-view-versus-a-copy\n",
            "  \"\"\"\n"
          ]
        }
      ],
      "execution_count": 13,
      "metadata": {
        "id": "WX0oShpHIMGK",
        "colab_type": "code",
        "colab": {
          "base_uri": "https://localhost:8080/",
          "height": 139
        },
        "executionInfo": {
          "status": "ok",
          "timestamp": 1600268456895,
          "user_tz": -60,
          "elapsed": 741,
          "user": {
            "displayName": "Pragya Paudyal",
            "photoUrl": "",
            "userId": "13052186358156577789"
          }
        },
        "outputId": "0f5cd8eb-336d-4532-ef86-5c8cdc45cf56"
      }
    },
    {
      "cell_type": "code",
      "source": [
        "nltk.download(\"stopwords\")\n",
        "stopwords = stopwords.words('english')\n"
      ],
      "outputs": [
        {
          "output_type": "stream",
          "name": "stdout",
          "text": [
            "[nltk_data] Downloading package stopwords to /root/nltk_data...\n",
            "[nltk_data]   Package stopwords is already up-to-date!\n"
          ]
        }
      ],
      "execution_count": 14,
      "metadata": {
        "id": "vjTty8M6JN-0",
        "colab_type": "code",
        "colab": {
          "base_uri": "https://localhost:8080/",
          "height": 51
        },
        "executionInfo": {
          "status": "ok",
          "timestamp": 1600268458265,
          "user_tz": -60,
          "elapsed": 444,
          "user": {
            "displayName": "Pragya Paudyal",
            "photoUrl": "",
            "userId": "13052186358156577789"
          }
        },
        "outputId": "27b4ee04-b69e-47fb-fb73-2065bc813f0e"
      }
    },
    {
      "cell_type": "code",
      "source": [
        "# remove stopwords\n",
        "\n",
        "def remove_stopword(text):\n",
        "    text_nostopword= [char for char in text if char not in stopwords]\n",
        "    return text_nostopword\n",
        "\ndata['tweet']= data['tweet'].apply(lambda x: remove_stopword(x))"
      ],
      "outputs": [
        {
          "output_type": "stream",
          "name": "stderr",
          "text": [
            "/usr/local/lib/python3.6/dist-packages/ipykernel_launcher.py:5: SettingWithCopyWarning: \n",
            "A value is trying to be set on a copy of a slice from a DataFrame.\n",
            "Try using .loc[row_indexer,col_indexer] = value instead\n",
            "\n",
            "See the caveats in the documentation: https://pandas.pydata.org/pandas-docs/stable/user_guide/indexing.html#returning-a-view-versus-a-copy\n",
            "  \"\"\"\n"
          ]
        }
      ],
      "execution_count": 15,
      "metadata": {
        "id": "HF7dw65yJTAq",
        "colab_type": "code",
        "colab": {
          "base_uri": "https://localhost:8080/",
          "height": 139
        },
        "executionInfo": {
          "status": "ok",
          "timestamp": 1600268461217,
          "user_tz": -60,
          "elapsed": 460,
          "user": {
            "displayName": "Pragya Paudyal",
            "photoUrl": "",
            "userId": "13052186358156577789"
          }
        },
        "outputId": "844da116-9a15-4c59-f8a3-2488c3defdb4"
      }
    },
    {
      "cell_type": "code",
      "source": [
        "data"
      ],
      "outputs": [
        {
          "output_type": "execute_result",
          "execution_count": 16,
          "data": {
            "text/html": [
              "<div>\n",
              "<style scoped>\n",
              "    .dataframe tbody tr th:only-of-type {\n",
              "        vertical-align: middle;\n",
              "    }\n",
              "\n",
              "    .dataframe tbody tr th {\n",
              "        vertical-align: top;\n",
              "    }\n",
              "\n",
              "    .dataframe thead th {\n",
              "        text-align: right;\n",
              "    }\n",
              "</style>\n",
              "<table border=\"1\" class=\"dataframe\">\n",
              "  <thead>\n",
              "    <tr style=\"text-align: right;\">\n",
              "      <th></th>\n",
              "      <th>tweet</th>\n",
              "    </tr>\n",
              "  </thead>\n",
              "  <tbody>\n",
              "    <tr>\n",
              "      <th>0</th>\n",
              "      <td>[breaking, government, wednesday, said, start,...</td>\n",
              "    </tr>\n",
              "    <tr>\n",
              "      <th>1</th>\n",
              "      <td>[trump, knew, covid19, insighted, maga, protes...</td>\n",
              "    </tr>\n",
              "    <tr>\n",
              "      <th>2</th>\n",
              "      <td>[weeks, since, school, began, school, shutting...</td>\n",
              "    </tr>\n",
              "    <tr>\n",
              "      <th>3</th>\n",
              "      <td>[shocker, covid19, kids, school, gave, option,...</td>\n",
              "    </tr>\n",
              "    <tr>\n",
              "      <th>4</th>\n",
              "      <td>[county, postponed, fall, contact, sports, cov...</td>\n",
              "    </tr>\n",
              "    <tr>\n",
              "      <th>...</th>\n",
              "      <td>...</td>\n",
              "    </tr>\n",
              "    <tr>\n",
              "      <th>95</th>\n",
              "      <td>[check, guide, covid19, supports, business, ht...</td>\n",
              "    </tr>\n",
              "    <tr>\n",
              "      <th>96</th>\n",
              "      <td>[stouffville, town, hall, remain, closed, 2021...</td>\n",
              "    </tr>\n",
              "    <tr>\n",
              "      <th>97</th>\n",
              "      <td>[gaonconnection, survey, impact, covid19, lock...</td>\n",
              "    </tr>\n",
              "    <tr>\n",
              "      <th>98</th>\n",
              "      <td>[looked, 27th, presentation, slides, covid19, ...</td>\n",
              "    </tr>\n",
              "    <tr>\n",
              "      <th>99</th>\n",
              "      <td>[mistrust, social, media, grown, result, covid...</td>\n",
              "    </tr>\n",
              "  </tbody>\n",
              "</table>\n",
              "<p>100 rows × 1 columns</p>\n",
              "</div>"
            ],
            "text/plain": [
              "                                                tweet\n",
              "0   [breaking, government, wednesday, said, start,...\n",
              "1   [trump, knew, covid19, insighted, maga, protes...\n",
              "2   [weeks, since, school, began, school, shutting...\n",
              "3   [shocker, covid19, kids, school, gave, option,...\n",
              "4   [county, postponed, fall, contact, sports, cov...\n",
              "..                                                ...\n",
              "95  [check, guide, covid19, supports, business, ht...\n",
              "96  [stouffville, town, hall, remain, closed, 2021...\n",
              "97  [gaonconnection, survey, impact, covid19, lock...\n",
              "98  [looked, 27th, presentation, slides, covid19, ...\n",
              "99  [mistrust, social, media, grown, result, covid...\n",
              "\n[100 rows x 1 columns]"
            ]
          },
          "metadata": {
            "tags": []
          }
        }
      ],
      "execution_count": 16,
      "metadata": {
        "id": "OkpfUMAEJc0Q",
        "colab_type": "code",
        "colab": {
          "base_uri": "https://localhost:8080/",
          "height": 419
        },
        "executionInfo": {
          "status": "ok",
          "timestamp": 1600268462737,
          "user_tz": -60,
          "elapsed": 498,
          "user": {
            "displayName": "Pragya Paudyal",
            "photoUrl": "",
            "userId": "13052186358156577789"
          }
        },
        "outputId": "269438c6-8a7d-4dff-f8d3-a327c3745014"
      }
    },
    {
      "cell_type": "code",
      "source": [
        "# Porter Stemmer\n",
        "ps= nltk.PorterStemmer()"
      ],
      "outputs": [],
      "execution_count": 17,
      "metadata": {
        "id": "kyiNTV0rMu9B",
        "colab_type": "code",
        "colab": {},
        "executionInfo": {
          "status": "ok",
          "timestamp": 1600268466658,
          "user_tz": -60,
          "elapsed": 450,
          "user": {
            "displayName": "Pragya Paudyal",
            "photoUrl": "",
            "userId": "13052186358156577789"
          }
        }
      }
    },
    {
      "cell_type": "code",
      "source": [
        "# stemming \n",
        "\n",
        "def stem(tweet_no_stopword):\n",
        "   text = [ps.stem ( word) for word in tweet_no_stopword]\n",
        "   return text\n",
        "\ndata[\"tweet\"]= data[\"tweet\"].apply(lambda x: stem(x))"
      ],
      "outputs": [
        {
          "output_type": "stream",
          "name": "stderr",
          "text": [
            "/usr/local/lib/python3.6/dist-packages/ipykernel_launcher.py:7: SettingWithCopyWarning: \n",
            "A value is trying to be set on a copy of a slice from a DataFrame.\n",
            "Try using .loc[row_indexer,col_indexer] = value instead\n",
            "\n",
            "See the caveats in the documentation: https://pandas.pydata.org/pandas-docs/stable/user_guide/indexing.html#returning-a-view-versus-a-copy\n",
            "  import sys\n"
          ]
        }
      ],
      "execution_count": 18,
      "metadata": {
        "id": "pPE8G0JvMAGz",
        "colab_type": "code",
        "colab": {
          "base_uri": "https://localhost:8080/",
          "height": 139
        },
        "executionInfo": {
          "status": "ok",
          "timestamp": 1600268468181,
          "user_tz": -60,
          "elapsed": 447,
          "user": {
            "displayName": "Pragya Paudyal",
            "photoUrl": "",
            "userId": "13052186358156577789"
          }
        },
        "outputId": "88a3c057-13ea-4ad6-f9ee-01aac5b76bf4"
      }
    },
    {
      "cell_type": "code",
      "source": [
        "data"
      ],
      "outputs": [
        {
          "output_type": "execute_result",
          "execution_count": 19,
          "data": {
            "text/html": [
              "<div>\n",
              "<style scoped>\n",
              "    .dataframe tbody tr th:only-of-type {\n",
              "        vertical-align: middle;\n",
              "    }\n",
              "\n",
              "    .dataframe tbody tr th {\n",
              "        vertical-align: top;\n",
              "    }\n",
              "\n",
              "    .dataframe thead th {\n",
              "        text-align: right;\n",
              "    }\n",
              "</style>\n",
              "<table border=\"1\" class=\"dataframe\">\n",
              "  <thead>\n",
              "    <tr style=\"text-align: right;\">\n",
              "      <th></th>\n",
              "      <th>tweet</th>\n",
              "    </tr>\n",
              "  </thead>\n",
              "  <tbody>\n",
              "    <tr>\n",
              "      <th>0</th>\n",
              "      <td>[break, govern, wednesday, said, start, distri...</td>\n",
              "    </tr>\n",
              "    <tr>\n",
              "      <th>1</th>\n",
              "      <td>[trump, knew, covid19, insight, maga, protest,...</td>\n",
              "    </tr>\n",
              "    <tr>\n",
              "      <th>2</th>\n",
              "      <td>[week, sinc, school, began, school, shut, inde...</td>\n",
              "    </tr>\n",
              "    <tr>\n",
              "      <th>3</th>\n",
              "      <td>[shocker, covid19, kid, school, gave, option, ...</td>\n",
              "    </tr>\n",
              "    <tr>\n",
              "      <th>4</th>\n",
              "      <td>[counti, postpon, fall, contact, sport, covid1...</td>\n",
              "    </tr>\n",
              "    <tr>\n",
              "      <th>...</th>\n",
              "      <td>...</td>\n",
              "    </tr>\n",
              "    <tr>\n",
              "      <th>95</th>\n",
              "      <td>[check, guid, covid19, support, busi, http, 3b...</td>\n",
              "    </tr>\n",
              "    <tr>\n",
              "      <th>96</th>\n",
              "      <td>[stouffvil, town, hall, remain, close, 2021, c...</td>\n",
              "    </tr>\n",
              "    <tr>\n",
              "      <th>97</th>\n",
              "      <td>[gaonconnect, survey, impact, covid19, lockdow...</td>\n",
              "    </tr>\n",
              "    <tr>\n",
              "      <th>98</th>\n",
              "      <td>[look, 27th, present, slide, covid19, laura, s...</td>\n",
              "    </tr>\n",
              "    <tr>\n",
              "      <th>99</th>\n",
              "      <td>[mistrust, social, media, grown, result, covid...</td>\n",
              "    </tr>\n",
              "  </tbody>\n",
              "</table>\n",
              "<p>100 rows × 1 columns</p>\n",
              "</div>"
            ],
            "text/plain": [
              "                                                tweet\n",
              "0   [break, govern, wednesday, said, start, distri...\n",
              "1   [trump, knew, covid19, insight, maga, protest,...\n",
              "2   [week, sinc, school, began, school, shut, inde...\n",
              "3   [shocker, covid19, kid, school, gave, option, ...\n",
              "4   [counti, postpon, fall, contact, sport, covid1...\n",
              "..                                                ...\n",
              "95  [check, guid, covid19, support, busi, http, 3b...\n",
              "96  [stouffvil, town, hall, remain, close, 2021, c...\n",
              "97  [gaonconnect, survey, impact, covid19, lockdow...\n",
              "98  [look, 27th, present, slide, covid19, laura, s...\n",
              "99  [mistrust, social, media, grown, result, covid...\n",
              "\n[100 rows x 1 columns]"
            ]
          },
          "metadata": {
            "tags": []
          }
        }
      ],
      "execution_count": 19,
      "metadata": {
        "id": "K8whDmIbMfQs",
        "colab_type": "code",
        "colab": {
          "base_uri": "https://localhost:8080/",
          "height": 419
        },
        "executionInfo": {
          "status": "ok",
          "timestamp": 1600268471265,
          "user_tz": -60,
          "elapsed": 429,
          "user": {
            "displayName": "Pragya Paudyal",
            "photoUrl": "",
            "userId": "13052186358156577789"
          }
        },
        "outputId": "096989a7-e6b0-4c4b-c82e-d5c9aeb339be"
      }
    },
    {
      "cell_type": "code",
      "source": [
        "data= pd.DataFrame(data[\"tweet\"])"
      ],
      "outputs": [],
      "execution_count": 20,
      "metadata": {
        "id": "srg38lhwM1WI",
        "colab_type": "code",
        "colab": {},
        "executionInfo": {
          "status": "ok",
          "timestamp": 1600268473211,
          "user_tz": -60,
          "elapsed": 423,
          "user": {
            "displayName": "Pragya Paudyal",
            "photoUrl": "",
            "userId": "13052186358156577789"
          }
        }
      }
    },
    {
      "cell_type": "code",
      "source": [
        "data"
      ],
      "outputs": [
        {
          "output_type": "execute_result",
          "execution_count": 21,
          "data": {
            "text/html": [
              "<div>\n",
              "<style scoped>\n",
              "    .dataframe tbody tr th:only-of-type {\n",
              "        vertical-align: middle;\n",
              "    }\n",
              "\n",
              "    .dataframe tbody tr th {\n",
              "        vertical-align: top;\n",
              "    }\n",
              "\n",
              "    .dataframe thead th {\n",
              "        text-align: right;\n",
              "    }\n",
              "</style>\n",
              "<table border=\"1\" class=\"dataframe\">\n",
              "  <thead>\n",
              "    <tr style=\"text-align: right;\">\n",
              "      <th></th>\n",
              "      <th>tweet</th>\n",
              "    </tr>\n",
              "  </thead>\n",
              "  <tbody>\n",
              "    <tr>\n",
              "      <th>0</th>\n",
              "      <td>[break, govern, wednesday, said, start, distri...</td>\n",
              "    </tr>\n",
              "    <tr>\n",
              "      <th>1</th>\n",
              "      <td>[trump, knew, covid19, insight, maga, protest,...</td>\n",
              "    </tr>\n",
              "    <tr>\n",
              "      <th>2</th>\n",
              "      <td>[week, sinc, school, began, school, shut, inde...</td>\n",
              "    </tr>\n",
              "    <tr>\n",
              "      <th>3</th>\n",
              "      <td>[shocker, covid19, kid, school, gave, option, ...</td>\n",
              "    </tr>\n",
              "    <tr>\n",
              "      <th>4</th>\n",
              "      <td>[counti, postpon, fall, contact, sport, covid1...</td>\n",
              "    </tr>\n",
              "    <tr>\n",
              "      <th>...</th>\n",
              "      <td>...</td>\n",
              "    </tr>\n",
              "    <tr>\n",
              "      <th>95</th>\n",
              "      <td>[check, guid, covid19, support, busi, http, 3b...</td>\n",
              "    </tr>\n",
              "    <tr>\n",
              "      <th>96</th>\n",
              "      <td>[stouffvil, town, hall, remain, close, 2021, c...</td>\n",
              "    </tr>\n",
              "    <tr>\n",
              "      <th>97</th>\n",
              "      <td>[gaonconnect, survey, impact, covid19, lockdow...</td>\n",
              "    </tr>\n",
              "    <tr>\n",
              "      <th>98</th>\n",
              "      <td>[look, 27th, present, slide, covid19, laura, s...</td>\n",
              "    </tr>\n",
              "    <tr>\n",
              "      <th>99</th>\n",
              "      <td>[mistrust, social, media, grown, result, covid...</td>\n",
              "    </tr>\n",
              "  </tbody>\n",
              "</table>\n",
              "<p>100 rows × 1 columns</p>\n",
              "</div>"
            ],
            "text/plain": [
              "                                                tweet\n",
              "0   [break, govern, wednesday, said, start, distri...\n",
              "1   [trump, knew, covid19, insight, maga, protest,...\n",
              "2   [week, sinc, school, began, school, shut, inde...\n",
              "3   [shocker, covid19, kid, school, gave, option, ...\n",
              "4   [counti, postpon, fall, contact, sport, covid1...\n",
              "..                                                ...\n",
              "95  [check, guid, covid19, support, busi, http, 3b...\n",
              "96  [stouffvil, town, hall, remain, close, 2021, c...\n",
              "97  [gaonconnect, survey, impact, covid19, lockdow...\n",
              "98  [look, 27th, present, slide, covid19, laura, s...\n",
              "99  [mistrust, social, media, grown, result, covid...\n",
              "\n[100 rows x 1 columns]"
            ]
          },
          "metadata": {
            "tags": []
          }
        }
      ],
      "execution_count": 21,
      "metadata": {
        "id": "fyx9NIOvREAf",
        "colab_type": "code",
        "colab": {
          "base_uri": "https://localhost:8080/",
          "height": 419
        },
        "executionInfo": {
          "status": "ok",
          "timestamp": 1600268486773,
          "user_tz": -60,
          "elapsed": 492,
          "user": {
            "displayName": "Pragya Paudyal",
            "photoUrl": "",
            "userId": "13052186358156577789"
          }
        },
        "outputId": "abf4c2ec-a502-4c6d-d95a-0b4171b081b6"
      }
    },
    {
      "cell_type": "code",
      "source": [
        "data_list = data.loc[:,\"tweet\"].to_list()\n",
        "len(data_list)"
      ],
      "outputs": [
        {
          "output_type": "execute_result",
          "execution_count": 28,
          "data": {
            "text/plain": [
              "100"
            ]
          },
          "metadata": {
            "tags": []
          }
        }
      ],
      "execution_count": 28,
      "metadata": {
        "id": "bOp3QXYtQP_l",
        "colab_type": "code",
        "colab": {
          "base_uri": "https://localhost:8080/",
          "height": 34
        },
        "executionInfo": {
          "status": "ok",
          "timestamp": 1600268728545,
          "user_tz": -60,
          "elapsed": 472,
          "user": {
            "displayName": "Pragya Paudyal",
            "photoUrl": "",
            "userId": "13052186358156577789"
          }
        },
        "outputId": "1f52ccb5-03cf-49d8-eee6-acef1d9c8850"
      }
    },
    {
      "cell_type": "code",
      "source": [
        "# putting the twitter in flat list\n",
        "flat_data_list = [item for sublist in data_list for item in sublist]\n",
        "len(flat_data_list)"
      ],
      "outputs": [
        {
          "output_type": "execute_result",
          "execution_count": 29,
          "data": {
            "text/plain": [
              "2021"
            ]
          },
          "metadata": {
            "tags": []
          }
        }
      ],
      "execution_count": 29,
      "metadata": {
        "id": "0W3ht_bucwn9",
        "colab_type": "code",
        "colab": {
          "base_uri": "https://localhost:8080/",
          "height": 34
        },
        "executionInfo": {
          "status": "ok",
          "timestamp": 1600268761524,
          "user_tz": -60,
          "elapsed": 511,
          "user": {
            "displayName": "Pragya Paudyal",
            "photoUrl": "",
            "userId": "13052186358156577789"
          }
        },
        "outputId": "235e3612-a338-406b-b005-88ea48e8d798"
      }
    },
    {
      "cell_type": "code",
      "source": [
        "data_count= pd.DataFrame(flat_data_list)\n",
        "data_count= data_count[0].value_counts()"
      ],
      "outputs": [],
      "execution_count": 31,
      "metadata": {
        "id": "cHJQGYIxdzL3",
        "colab_type": "code",
        "colab": {},
        "executionInfo": {
          "status": "ok",
          "timestamp": 1600269207671,
          "user_tz": -60,
          "elapsed": 414,
          "user": {
            "displayName": "Pragya Paudyal",
            "photoUrl": "",
            "userId": "13052186358156577789"
          }
        }
      }
    },
    {
      "cell_type": "code",
      "source": [
        "from nltk.probability import FreqDist\n",
        "freq_count= FreqDist()\n",
        "for words in data_count:\n",
        "  freq_count[words] +=1\n",
        "\nfreq_count"
      ],
      "outputs": [
        {
          "output_type": "execute_result",
          "execution_count": 32,
          "data": {
            "text/plain": [
              "FreqDist({1: 838,\n",
              "          2: 189,\n",
              "          3: 54,\n",
              "          4: 34,\n",
              "          5: 13,\n",
              "          6: 10,\n",
              "          7: 6,\n",
              "          8: 3,\n",
              "          9: 1,\n",
              "          10: 1,\n",
              "          11: 1,\n",
              "          12: 1,\n",
              "          13: 1,\n",
              "          15: 1,\n",
              "          23: 1,\n",
              "          53: 1,\n",
              "          67: 1,\n",
              "          103: 1})"
            ]
          },
          "metadata": {
            "tags": []
          }
        }
      ],
      "execution_count": 32,
      "metadata": {
        "id": "2FoKMpthPKjG",
        "colab_type": "code",
        "colab": {
          "base_uri": "https://localhost:8080/",
          "height": 323
        },
        "executionInfo": {
          "status": "ok",
          "timestamp": 1600269216105,
          "user_tz": -60,
          "elapsed": 450,
          "user": {
            "displayName": "Pragya Paudyal",
            "photoUrl": "",
            "userId": "13052186358156577789"
          }
        },
        "outputId": "ecdf04e5-0eb0-40d6-e1ee-64de91c9d399"
      }
    },
    {
      "cell_type": "code",
      "source": [
        "import matplotlib.pyplot as plt\n",
        "import numpy as np\n",
        "import matplotlib.pyplot as plt\n",
        "import seaborn as sns"
      ],
      "outputs": [
        {
          "output_type": "stream",
          "name": "stderr",
          "text": [
            "/usr/local/lib/python3.6/dist-packages/statsmodels/tools/_testing.py:19: FutureWarning: pandas.util.testing is deprecated. Use the functions in the public API at pandas.testing instead.\n",
            "  import pandas.util.testing as tm\n"
          ]
        }
      ],
      "execution_count": 34,
      "metadata": {
        "id": "Q9341MqwQkrB",
        "colab_type": "code",
        "colab": {
          "base_uri": "https://localhost:8080/",
          "height": 71
        },
        "executionInfo": {
          "status": "ok",
          "timestamp": 1600269252015,
          "user_tz": -60,
          "elapsed": 434,
          "user": {
            "displayName": "Pragya Paudyal",
            "photoUrl": "",
            "userId": "13052186358156577789"
          }
        },
        "outputId": "70854822-b0c6-4a2e-c547-0bcc707af1a7"
      }
    },
    {
      "cell_type": "code",
      "source": [
        "data_count = data_count[:20,]\n",
        "plt.figure(figsize=(10,5))\n",
        "sns.barplot(data_count.values, data_count.index, alpha=0.8)\n",
        "plt.title('Top Words Overall')\n",
        "plt.ylabel('Word from Tweet', fontsize=12)\n",
        "plt.xlabel('Count of Words', fontsize=12)\n",
        "plt.show()"
      ],
      "outputs": [
        {
          "output_type": "display_data",
          "data": {
            "image/png": "[encoded data removed]",
            "text/plain": [
              "<Figure size 720x360 with 1 Axes>"
            ]
          },
          "metadata": {
            "tags": [],
            "needs_background": "light"
          }
        }
      ],
      "execution_count": 36,
      "metadata": {
        "id": "7zTtvEmJaXhF",
        "colab_type": "code",
        "colab": {
          "base_uri": "https://localhost:8080/",
          "height": 353
        },
        "executionInfo": {
          "status": "ok",
          "timestamp": 1600269282451,
          "user_tz": -60,
          "elapsed": 752,
          "user": {
            "displayName": "Pragya Paudyal",
            "photoUrl": "",
            "userId": "13052186358156577789"
          }
        },
        "outputId": "b50e10ff-65ac-4652-9444-40eac7fb0154"
      }
    }
  ],
  "metadata": {
    "colab": {
      "name": "Copy of TweetNLP.ipynb",
      "provenance": [
        {
          "file_id": "1s06XCGGlH8yk3mjQfGr6RugQ-kzfhmRL",
          "timestamp": 1600269967600
        }
      ],
      "authorship_tag": "ABX9TyPNsnne/VHSLVruklX/Bm2k"
    },
    "kernelspec": {
      "name": "python3",
      "display_name": "Python 3"
    },
    "nteract": {
      "version": "0.12.3"
    }
  },
  "nbformat": 4,
  "nbformat_minor": 0
}